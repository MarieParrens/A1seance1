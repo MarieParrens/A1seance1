{
 "cells": [
  {
   "cell_type": "markdown",
   "metadata": {},
   "source": [
    "# Les bases de la programmation R\n",
    "\n",
    "R est un langage de programmation « interprété » (en opposition avec « compilé »).\n",
    "C’est-à-dire que dès que l’on tape une ligne de code, on la valide et on voit immédiatement le résultat.\n",
    "On n’a pas besoin de l’étape de compilation : le code est compilée à la volée.\n",
    "C’est souvent beaucoup plus facile pour corriger les erreurs que l’on fait en écrivant le code.\n",
    "\n",
    "Exemple de lagage interprété : Matlab, ENVI, Java, Python...\n",
    "\n",
    "Exemple de langage compilé : C, C++, Fortran, Pascal...\n",
    "\n",
    "### Mes premiers pas en R sous Jupyter"
   ]
  },
  {
   "cell_type": "markdown",
   "metadata": {},
   "source": [
    "Taper un chiffre dans la boite ci dessous et cliquer sur le bouton **Exécuter** en haut de l'écran pour voir le résultat. Le résultat doit apparaitre sous la boite."
   ]
  },
  {
   "cell_type": "code",
   "execution_count": null,
   "metadata": {},
   "outputs": [],
   "source": [
    "2"
   ]
  },
  {
   "cell_type": "markdown",
   "metadata": {},
   "source": [
    "Soyons rassurés, le logiciel retourne le même résultat. \n",
    "\n",
    "Entrez maintenant une valeur décimale de votre choix (n'oubliez d'exécuter le code pour afficher le résultat)."
   ]
  },
  {
   "cell_type": "code",
   "execution_count": null,
   "metadata": {},
   "outputs": [],
   "source": []
  },
  {
   "cell_type": "markdown",
   "metadata": {},
   "source": [
    "Attention, sous R, une valeur décimale s'écrit avec un point et non une virgule !"
   ]
  },
  {
   "cell_type": "markdown",
   "metadata": {},
   "source": [
    "### Opérations arithmétiques"
   ]
  },
  {
   "cell_type": "markdown",
   "metadata": {},
   "source": [
    "Comme une calculatrice, il est possible de faire des opérations arithmétiques simples avec R, comme par exemple : l'addition, la soustraction, la multiplication et la division. \n",
    "\n",
    "Un exemple est présent dans la boite ci dessous, exécutez le code pour voir le résultat. Ceci est valable pour toutes les autres boites que vous allez rencontrer dans ce document."
   ]
  },
  {
   "cell_type": "code",
   "execution_count": null,
   "metadata": {},
   "outputs": [],
   "source": [
    "(10*3+4)/(78-5)"
   ]
  },
  {
   "cell_type": "markdown",
   "metadata": {},
   "source": [
    "**Exercice** : C'est les soldes ! Un pull à 50 euros est vendu avec une réduction de 30%. Combien vous a coûté le pull ?"
   ]
  },
  {
   "cell_type": "code",
   "execution_count": null,
   "metadata": {},
   "outputs": [],
   "source": []
  },
  {
   "cell_type": "markdown",
   "metadata": {},
   "source": [
    "Le reste de la division s'obtient :"
   ]
  },
  {
   "cell_type": "code",
   "execution_count": null,
   "metadata": {},
   "outputs": [],
   "source": [
    "10%%3"
   ]
  },
  {
   "cell_type": "markdown",
   "metadata": {},
   "source": [
    "La puissance d'un nombre :"
   ]
  },
  {
   "cell_type": "code",
   "execution_count": null,
   "metadata": {},
   "outputs": [],
   "source": [
    "5^6"
   ]
  },
  {
   "cell_type": "markdown",
   "metadata": {},
   "source": [
    "## Les variables"
   ]
  },
  {
   "cell_type": "markdown",
   "metadata": {},
   "source": [
    "Lorsque l'on programme, on a besoin de stocker les résultats quelque part. C'est pour cela que l'on utilise des variables. Chaque variable a un nom unique, et deux variables ne peuvent pas avoir le même nom."
   ]
  },
  {
   "cell_type": "markdown",
   "metadata": {},
   "source": [
    "Les variables servent à stocker des informations qui peuvent prendre plusieurs formes: une valeur numérique (cad un nombre), du texte, un tableau, un vecteur ou encore une matrice."
   ]
  },
  {
   "cell_type": "markdown",
   "metadata": {},
   "source": [
    "Une variable peut être crée avec l'opérateur \"assigner\" qui s'écrit avec le sympole \"inférieur à\" (<) composée d'un signe moins (-) accollé. \n",
    "Dans l'exemple suivant, on crée une variable de nom \"a\" et qui contient le nombre 43"
   ]
  },
  {
   "cell_type": "code",
   "execution_count": null,
   "metadata": {},
   "outputs": [],
   "source": [
    "a <- 43"
   ]
  },
  {
   "cell_type": "markdown",
   "metadata": {},
   "source": [
    "**Exercice** : créer une variable de nom \"toto\" qui contient le chiffre 6"
   ]
  },
  {
   "cell_type": "code",
   "execution_count": null,
   "metadata": {},
   "outputs": [],
   "source": []
  },
  {
   "cell_type": "markdown",
   "metadata": {},
   "source": [
    "Vous pouvez choisir n'importe quels noms pour vos variables à condition de respecter les règles suivantes :\n",
    "\n",
    "- Les noms des variables doivent commencer par une lettre\n",
    "- La casse (caractère en minuscule ou majuscule) est importante (« A » est différent de « a »)\n",
    "- Le nom des variables peuvent contenir des chiffres et des caractères spéciaux (mais pas en 1er caractère)\n",
    "- Les variables ne peuvent pas être appelés avec des noms déjà utilisés par R\n",
    "\n",
    "Il est fortement recommandé d'utiliser un nom de variable qui décrit l'information que l'on y stocke. Par exemple, plutôt que d'écrire :    "
   ]
  },
  {
   "cell_type": "code",
   "execution_count": null,
   "metadata": {},
   "outputs": [],
   "source": [
    "titi <- 25"
   ]
  },
  {
   "cell_type": "markdown",
   "metadata": {},
   "source": [
    "Il est préférable d'écrire :"
   ]
  },
  {
   "cell_type": "code",
   "execution_count": null,
   "metadata": {},
   "outputs": [],
   "source": [
    "NombreDeFromagesEnStock <- 25"
   ]
  },
  {
   "cell_type": "markdown",
   "metadata": {},
   "source": [
    "Ou (c'est question de goût) :"
   ]
  },
  {
   "cell_type": "code",
   "execution_count": null,
   "metadata": {},
   "outputs": [],
   "source": [
    "nombre_de_fromages_en_stock <- 25"
   ]
  },
  {
   "cell_type": "markdown",
   "metadata": {},
   "source": [
    "Essayons maintenant avec une chaine de caractère :"
   ]
  },
  {
   "cell_type": "code",
   "execution_count": null,
   "metadata": {},
   "outputs": [],
   "source": [
    "message_de_bienvenue <- \"bonjour\""
   ]
  },
  {
   "cell_type": "markdown",
   "metadata": {},
   "source": [
    "**Exercice** : créer une variable nommée \"message_en_anglais\" qui contient la chaine de caractère : Hello"
   ]
  },
  {
   "cell_type": "code",
   "execution_count": null,
   "metadata": {},
   "outputs": [],
   "source": []
  },
  {
   "cell_type": "markdown",
   "metadata": {},
   "source": [
    "Vous venez donc de créer plusieurs variables. Pour afficher toutes les variables créées pendant cette session, il faut utiliser la fonction ls() "
   ]
  },
  {
   "cell_type": "code",
   "execution_count": null,
   "metadata": {},
   "outputs": [],
   "source": [
    "ls()"
   ]
  },
  {
   "cell_type": "markdown",
   "metadata": {},
   "source": [
    "Pour voir la valeur prise par une variable, il faut utiliser la fonction print() en mettant dans la paranthèse le nom de la variable dont on veut connaitre sa valeur"
   ]
  },
  {
   "cell_type": "code",
   "execution_count": null,
   "metadata": {},
   "outputs": [],
   "source": [
    "print(a)"
   ]
  },
  {
   "cell_type": "markdown",
   "metadata": {},
   "source": [
    "**Exercice** : Quelle est la valeur de message_de_bienvenue ?, de la variable \"a\" ? de \"titi\" ?"
   ]
  },
  {
   "cell_type": "code",
   "execution_count": null,
   "metadata": {},
   "outputs": [],
   "source": []
  },
  {
   "cell_type": "markdown",
   "metadata": {},
   "source": [
    "## Les fonctions"
   ]
  },
  {
   "cell_type": "markdown",
   "metadata": {},
   "source": [
    "Dans R, il existe déjà de nombreuses fonctions, ce sont :\n",
    "- Outils mathématiques (calcul de la moyenne, somme d’une colonne, etc)\n",
    "- Outils pratique (sauvegarde d’un tableau…)\n",
    "- Outils propre au langage (afficher de l’aide…)\n",
    "\n",
    "Ces outils sont déjà créés dans R (on n’a pas à re-coder)\n",
    "- Ce qui nous fait gagner du temps\n",
    "- Mais, il faut les connaitre\n",
    "\n",
    "On vient déjà d'utiliser deux fonctions : ls() et print()\n",
    "\n",
    "Par contre, on ne peut pas connaitre par coeur toutes les fonctions de R : il faut utiliser l’aide (en utilisant une fonction !)\n",
    "Pour afficher l'aide (en anglais) :"
   ]
  },
  {
   "cell_type": "code",
   "execution_count": null,
   "metadata": {},
   "outputs": [],
   "source": [
    "help()"
   ]
  },
  {
   "cell_type": "markdown",
   "metadata": {},
   "source": [
    "Ou encore si vous voulez afficher l'aide de la fonction \"ls\""
   ]
  },
  {
   "cell_type": "code",
   "execution_count": null,
   "metadata": {},
   "outputs": [],
   "source": [
    "help(ls)"
   ]
  },
  {
   "cell_type": "markdown",
   "metadata": {},
   "source": [
    "ou encore :"
   ]
  },
  {
   "cell_type": "code",
   "execution_count": null,
   "metadata": {},
   "outputs": [],
   "source": [
    "?ls"
   ]
  },
  {
   "cell_type": "markdown",
   "metadata": {},
   "source": [
    "Une fonction est caractérisée par 3 composantes :\n",
    "- Son nom \n",
    "- Liste d’arguments : information dont la fonction a besoin pour travailler. Selon les fonctions, il y a un ou plusieurs arguments.\n",
    "- Le résultat issu de la fonction\n",
    "\n",
    "Syntaxe : nom(arguments)\n",
    "\n",
    "**Exercice** : Exprimer la racine carrée de 25 sachant que :\n",
    "- le nom de la fonction est : sqrt()\n",
    "- l'argument est le nombre dont on souhaite connaitre la racine carré."
   ]
  },
  {
   "cell_type": "code",
   "execution_count": null,
   "metadata": {},
   "outputs": [],
   "source": []
  },
  {
   "cell_type": "markdown",
   "metadata": {},
   "source": [
    "**Exemple** : La variable \"lulu\" contient le chiffre 5. On calcule le logarithme népérien et on affiche le résultat."
   ]
  },
  {
   "cell_type": "code",
   "execution_count": null,
   "metadata": {},
   "outputs": [],
   "source": [
    "lulu <- 5\n",
    "print(log(lulu))"
   ]
  },
  {
   "cell_type": "markdown",
   "metadata": {},
   "source": [
    "Rq1 : on a combiné deux fonctions : print (afficher le résultat) et log (logarithme népérien).\n",
    "\n",
    "Rq2 : on peut écrire plusieurs ligne dans une même boite."
   ]
  },
  {
   "cell_type": "markdown",
   "metadata": {},
   "source": [
    "**Exercice** : créer une variable \"fifi\" qui contient la valeur pi/4 et calculer le sinus et le cosinus de cette variable. Afficher le résultat"
   ]
  },
  {
   "cell_type": "code",
   "execution_count": null,
   "metadata": {},
   "outputs": [],
   "source": []
  },
  {
   "cell_type": "markdown",
   "metadata": {},
   "source": [
    "**Exercice** : à quoi servent les fonctions mathématiques suivantes ?\n",
    "- floor()\n",
    "- ceiling()\n",
    "- round()\n",
    "\n",
    "Testez-les avec des nombres décimaux !"
   ]
  },
  {
   "cell_type": "code",
   "execution_count": null,
   "metadata": {},
   "outputs": [],
   "source": []
  },
  {
   "cell_type": "markdown",
   "metadata": {},
   "source": [
    "## Les vecteurs"
   ]
  },
  {
   "cell_type": "markdown",
   "metadata": {},
   "source": [
    "Un vecteur est un élément de base du langage R.\n",
    "C’est une liste d’éléments qui sont tous du même type.\n",
    "C’est une structure qui permet de stocker plusieurs nombres dans une même variable.\n",
    "Le vecteur \"titi\" est un vecteur de taille 4 contenant les chiffres : 1,2,3,5"
   ]
  },
  {
   "cell_type": "code",
   "execution_count": null,
   "metadata": {},
   "outputs": [],
   "source": [
    "titi = c(1,2,3,5)\n",
    "print(titi)"
   ]
  },
  {
   "cell_type": "markdown",
   "metadata": {},
   "source": [
    "Il est souvent utile de vérifier la taille de nos vecteurs :"
   ]
  },
  {
   "cell_type": "code",
   "execution_count": null,
   "metadata": {},
   "outputs": [],
   "source": [
    "length(titi)"
   ]
  },
  {
   "cell_type": "markdown",
   "metadata": {},
   "source": [
    "Le vecteur titi est bien de taille 4 !\n",
    "Garder en tête qu'un nombre est un vecteur de taille 1.\n",
    "\n",
    "Selon le contexte, il existe beaucoup de solution pour créer un vecteurs sous R : "
   ]
  },
  {
   "cell_type": "code",
   "execution_count": null,
   "metadata": {},
   "outputs": [],
   "source": [
    "# concatener(i.e coller) des nombres pour en faire un vecteur\n",
    "vec1 <- c(1,45,6,78)\n",
    "print(vec1)"
   ]
  },
  {
   "cell_type": "code",
   "execution_count": null,
   "metadata": {},
   "outputs": [],
   "source": [
    "# générer une suite de 1 à 10 \n",
    "vec2 <- 1:10\n",
    "print(vec2)"
   ]
  },
  {
   "cell_type": "code",
   "execution_count": null,
   "metadata": {},
   "outputs": [],
   "source": [
    "# générer une suite de 1 à 10 par pas de 2\n",
    "vec3 <- seq(1,10,by=2)\n",
    "print(vec3)"
   ]
  },
  {
   "cell_type": "code",
   "execution_count": null,
   "metadata": {},
   "outputs": [],
   "source": [
    "# générer une suite composée de 13 éléments avec le plut petit égal à 1 et le plus grand égal à 20\n",
    "vec4 <- seq(1,20,length=13)\n",
    "print(vec4)"
   ]
  },
  {
   "cell_type": "code",
   "execution_count": null,
   "metadata": {},
   "outputs": [],
   "source": [
    "# coller deux vecteurs\n",
    "vec5 <- c(vec3,vec4)\n",
    "print(vec5)"
   ]
  },
  {
   "cell_type": "markdown",
   "metadata": {},
   "source": [
    "Dans ces quatre dernières boites, les lignes commençant par # sont des commentaires : ce sont des lignes non interprétées par R qui permettent d'expliquer le code."
   ]
  },
  {
   "cell_type": "markdown",
   "metadata": {},
   "source": [
    "**Exercice** : Créer un vecteur de taille 40, nommé gégé, dont les 20 premiers éléments sont une suite de 11 à 30 et les 20 derniers éléments, une suite décroissante de 40 à 21."
   ]
  },
  {
   "cell_type": "code",
   "execution_count": null,
   "metadata": {},
   "outputs": [],
   "source": []
  },
  {
   "cell_type": "markdown",
   "metadata": {},
   "source": [
    "Comment fait-on pour obtenir le 4ème élément du vecteur ?"
   ]
  },
  {
   "cell_type": "code",
   "execution_count": null,
   "metadata": {},
   "outputs": [],
   "source": [
    "# création d'un vecteur \n",
    "vec <- 11:20\n",
    "# création d'une nouvelle variable qui contient le 4ème élément du vecteur vec\n",
    "a <- vec[4]\n",
    "# affichage du résultat\n",
    "print(a)"
   ]
  },
  {
   "cell_type": "markdown",
   "metadata": {},
   "source": [
    "**Exercice** : Quel est la valeur du 33ème terme du vecteur \"gégé\". Afficher le résultat."
   ]
  },
  {
   "cell_type": "code",
   "execution_count": null,
   "metadata": {},
   "outputs": [],
   "source": []
  },
  {
   "cell_type": "markdown",
   "metadata": {},
   "source": [
    "### Des vecteurs et des fonctions !\n",
    "\n",
    "Nous allons tester différentes fonctions sur un vecteur. Commençons par créer un vecteur de taille 10 contenant des nombres choisis aléatoirement avec la fonction sample()"
   ]
  },
  {
   "cell_type": "code",
   "execution_count": null,
   "metadata": {},
   "outputs": [],
   "source": [
    "youpi <- sample(10)\n",
    "print(youpi)"
   ]
  },
  {
   "cell_type": "markdown",
   "metadata": {},
   "source": [
    "Quelle est l'utilité des fonctions suivantes :"
   ]
  },
  {
   "cell_type": "raw",
   "metadata": {},
   "source": [
    "min()\n",
    "max()\n",
    "range()\n",
    "mean()\n",
    "median()\n",
    "quantile()\n",
    "sort()\n",
    "sum()\n",
    "prod()\n",
    "diff()"
   ]
  },
  {
   "cell_type": "markdown",
   "metadata": {},
   "source": [
    "**Exercice** : répondez à la question en utilisant la boite ci dessous"
   ]
  },
  {
   "cell_type": "code",
   "execution_count": null,
   "metadata": {},
   "outputs": [],
   "source": []
  },
  {
   "cell_type": "markdown",
   "metadata": {},
   "source": [
    "### Premier petit exemple\n",
    "Nous allons travailler sur la masse de 4 individus :\n",
    "- Marc : 77 kg\n",
    "- Sophie : 58 kg\n",
    "- Julie : 66 kg\n",
    "- Blaise : 83 kg"
   ]
  },
  {
   "cell_type": "markdown",
   "metadata": {},
   "source": [
    "Etape 1 : créer un vecteur \"masse\" contenant la masse des 4 individus "
   ]
  },
  {
   "cell_type": "code",
   "execution_count": null,
   "metadata": {},
   "outputs": [],
   "source": []
  },
  {
   "cell_type": "markdown",
   "metadata": {},
   "source": [
    "Etape 2 : créer un vecteur \"nom\" contenant le nom des 4 individus"
   ]
  },
  {
   "cell_type": "code",
   "execution_count": null,
   "metadata": {},
   "outputs": [],
   "source": []
  },
  {
   "cell_type": "markdown",
   "metadata": {},
   "source": [
    "Etape 3 : construire un graphique avec la masse et le nom de chaque individu. Pour cela utiliser la fonction barplot(). Si vous ne savez pas l'utiliser, consultez l'aide !"
   ]
  },
  {
   "cell_type": "code",
   "execution_count": null,
   "metadata": {},
   "outputs": [],
   "source": []
  },
  {
   "cell_type": "markdown",
   "metadata": {},
   "source": [
    "# Les matrices"
   ]
  },
  {
   "cell_type": "markdown",
   "metadata": {},
   "source": [
    "Les matrices sont des tableaux à deux dimensions, définis par un nombre de lignes et un nombre de colonnes. Dans une matrice, toutes les colonnes ont le même nombre d'éléments. Il est est de même pour les lignes.\n",
    "\n",
    "Prenons un exemple pour mieux comprendre. Nous allons créer une matrice possedant 7 lignes et 5 colonnes contenant que des zéros."
   ]
  },
  {
   "cell_type": "code",
   "execution_count": null,
   "metadata": {},
   "outputs": [],
   "source": [
    "mat <- matrix(0,7,5)\n",
    "print(mat)"
   ]
  },
  {
   "cell_type": "markdown",
   "metadata": {},
   "source": [
    "La matrice est bien composée uniquement de zéros. Le sympole [1,] devant la première ligne indique que c'est la première ligne de la matrice alors que le symbole [,1] indique que c'est la première colonne de la matrice."
   ]
  },
  {
   "cell_type": "markdown",
   "metadata": {},
   "source": [
    "**Exercice** : Créer une matrice contenant 2 lignes et 3 colonnes composée uniquement du chiffre 7."
   ]
  },
  {
   "cell_type": "code",
   "execution_count": null,
   "metadata": {},
   "outputs": [],
   "source": []
  },
  {
   "cell_type": "markdown",
   "metadata": {},
   "source": [
    "Lorsque l'on programme et que l'on utilise des matrices, il est souvent utile d'avoir recours à des matrices \"vides\". Ce sont des matrices qui ne contiennent pas de chiffres (NA) mais que l'on remplira par la suite à l'aide de boucle ou d'autres méthodes (section suivante). Pour créer une matrice \"vide\" contenant 2 lignes et 3 colonnes : "
   ]
  },
  {
   "cell_type": "code",
   "execution_count": null,
   "metadata": {},
   "outputs": [],
   "source": [
    "mat_vide <- matrix(nrow = 2, ncol = 3)\n",
    "print(mat_vide)"
   ]
  },
  {
   "cell_type": "markdown",
   "metadata": {},
   "source": [
    "**Exercice** : Créer une matrice vide de 4 lignes contenant 20 éléments "
   ]
  },
  {
   "cell_type": "code",
   "execution_count": null,
   "metadata": {},
   "outputs": [],
   "source": []
  },
  {
   "cell_type": "markdown",
   "metadata": {},
   "source": [
    "Il est également possible de créer une matrice contenant des nombres de valeurs différentes. Par exemple, créons une matrice de 2 lignes et 3 colonnes, contenant des valeurs de 1 à 6. Ces valeurs sont insérées par ligne.\n"
   ]
  },
  {
   "cell_type": "code",
   "execution_count": null,
   "metadata": {},
   "outputs": [],
   "source": [
    "mat1 <- matrix(data = 1:6, nrow = 2, ncol = 3, byrow = T)\n",
    "print(mat1)"
   ]
  },
  {
   "cell_type": "markdown",
   "metadata": {},
   "source": [
    "\"byrow = T\" (T = TRUE) signifie que les nombres (de 1 à 6 dans l'exemple) sont inserés par ligne. Si on veux les insérer par colonne, il faut mettre l'argument \"byrow\" à FAUX c'est à dire : \"byrow = F\" (F = FALSE)"
   ]
  },
  {
   "cell_type": "markdown",
   "metadata": {},
   "source": [
    "**Exercice** : Créer une matrice contenant 3 lignes et 2 colonnes composée de chiffres tirés aléatoirement."
   ]
  },
  {
   "cell_type": "code",
   "execution_count": null,
   "metadata": {},
   "outputs": [],
   "source": []
  },
  {
   "cell_type": "markdown",
   "metadata": {},
   "source": [
    "**Exemple faisant intervenir de nombreuses notions (pas que des matrices !)** : On va créer une matrice contenant les notes en Histoire, Biologie et Sport de 4 étudiants. Pierre a respectivement eu 8, 9 et 15. Nathalie a obtenu respectivement 17,12 et 13. Jacques a eu 11, 15 et 7 et Julie a obtenu 5, 12 et 19."
   ]
  },
  {
   "cell_type": "markdown",
   "metadata": {},
   "source": [
    "Créer un vecteur notre pour chaque élève. Le nom du vecteur correspond à celui de l'élève."
   ]
  },
  {
   "cell_type": "code",
   "execution_count": null,
   "metadata": {},
   "outputs": [],
   "source": []
  },
  {
   "cell_type": "markdown",
   "metadata": {},
   "source": [
    "Créer la matrice correspondant aux élèves et aux notes obtenues. Chaque ligne de la matrice représente un élève et les colonnes se réfèrent aux matières (Histoire, Biologie et Sport). La matrice s'appelle \"note\". Afficher la matrice note."
   ]
  },
  {
   "cell_type": "code",
   "execution_count": null,
   "metadata": {},
   "outputs": [],
   "source": []
  },
  {
   "cell_type": "markdown",
   "metadata": {},
   "source": [
    "Il est possible de nommer les lignes et les colonnes. Pour nommer les lignes :"
   ]
  },
  {
   "cell_type": "code",
   "execution_count": null,
   "metadata": {},
   "outputs": [],
   "source": [
    "rownames(note) <- c('Pierre', 'Nathalie','Jacques','Julie')"
   ]
  },
  {
   "cell_type": "markdown",
   "metadata": {},
   "source": [
    "A vous de trouver comment nommer les colonnes (avec les matières !)"
   ]
  },
  {
   "cell_type": "code",
   "execution_count": null,
   "metadata": {},
   "outputs": [],
   "source": []
  },
  {
   "cell_type": "markdown",
   "metadata": {},
   "source": [
    "Afficher la matrice note et observer la différence."
   ]
  },
  {
   "cell_type": "code",
   "execution_count": null,
   "metadata": {},
   "outputs": [],
   "source": []
  },
  {
   "cell_type": "markdown",
   "metadata": {},
   "source": [
    "A quoi correspond :\n",
    "- note[1,2]\n",
    "- note[,2]\n",
    "- note[3,]\n",
    "- note[« Julie »,   \"Sport\"]\n",
    "- note[« Nathalie »,c(\"Biologie\", \"Sport\")]\n",
    "- note[1:2,c(1,3)]\n",
    "- note[2:4,c(« Histoire », »Sport »)]\n",
    "- note[,] ?\n"
   ]
  },
  {
   "cell_type": "code",
   "execution_count": null,
   "metadata": {},
   "outputs": [],
   "source": []
  },
  {
   "cell_type": "markdown",
   "metadata": {},
   "source": [
    "Quelques figures, tracer un boxplot (fonction à utiliser \"boxplot\") de la matrice et un diagramme en batons des notes de chaque élève pour chaque matière (fonction : \"barplot\") "
   ]
  },
  {
   "cell_type": "code",
   "execution_count": null,
   "metadata": {},
   "outputs": [],
   "source": []
  },
  {
   "cell_type": "markdown",
   "metadata": {},
   "source": [
    "### Quelques opérations sur les matrices"
   ]
  },
  {
   "cell_type": "markdown",
   "metadata": {},
   "source": [
    "Pour afficher le nombre de lignes "
   ]
  },
  {
   "cell_type": "code",
   "execution_count": null,
   "metadata": {},
   "outputs": [],
   "source": [
    "nrow(note)"
   ]
  },
  {
   "cell_type": "markdown",
   "metadata": {},
   "source": [
    "Pour afficher le nombre de lignes (à vous de le déduire !)"
   ]
  },
  {
   "cell_type": "code",
   "execution_count": null,
   "metadata": {},
   "outputs": [],
   "source": []
  },
  {
   "cell_type": "markdown",
   "metadata": {},
   "source": [
    "On peut également faire la somme de toutes les lignes"
   ]
  },
  {
   "cell_type": "code",
   "execution_count": null,
   "metadata": {},
   "outputs": [],
   "source": [
    "rowSums(note)"
   ]
  },
  {
   "cell_type": "markdown",
   "metadata": {},
   "source": [
    "et la somme de toutes les colonnes ?"
   ]
  },
  {
   "cell_type": "code",
   "execution_count": null,
   "metadata": {},
   "outputs": [],
   "source": []
  },
  {
   "cell_type": "markdown",
   "metadata": {},
   "source": [
    "On peut facile obtenir la moyenne des notes de chaque élève :"
   ]
  },
  {
   "cell_type": "code",
   "execution_count": null,
   "metadata": {},
   "outputs": [],
   "source": [
    "rowMeans(note)"
   ]
  },
  {
   "cell_type": "markdown",
   "metadata": {},
   "source": [
    "mais aussi, la moyenne obtenue dans chaque matière (à vous de trouver)"
   ]
  },
  {
   "cell_type": "code",
   "execution_count": null,
   "metadata": {},
   "outputs": [],
   "source": []
  },
  {
   "cell_type": "markdown",
   "metadata": {},
   "source": [
    "Et la transposée de la matrice :"
   ]
  },
  {
   "cell_type": "code",
   "execution_count": null,
   "metadata": {},
   "outputs": [],
   "source": [
    "print(t(note))"
   ]
  }
 ],
 "metadata": {
  "kernelspec": {
   "display_name": "R",
   "language": "R",
   "name": "ir"
  },
  "language_info": {
   "codemirror_mode": "r",
   "file_extension": ".r",
   "mimetype": "text/x-r-source",
   "name": "R",
   "pygments_lexer": "r",
   "version": "3.4.4"
  }
 },
 "nbformat": 4,
 "nbformat_minor": 4
}
